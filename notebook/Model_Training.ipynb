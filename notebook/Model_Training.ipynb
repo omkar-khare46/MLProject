{
 "cells": [
  {
   "cell_type": "code",
   "execution_count": 25,
   "metadata": {},
   "outputs": [],
   "source": [
    "#### import the dependencies\n",
    "import pandas as pd\n",
    "import numpy as np\n",
    "import matplotlib.pyplot as plt\n",
    "import seaborn as sns\n",
    "from sklearn.preprocessing import OneHotEncoder, StandardScaler\n",
    "from sklearn.model_selection import train_test_split\n",
    "from sklearn.linear_model import LinearRegression\n",
    "from sklearn.tree import DecisionTreeRegressor\n",
    "from sklearn.neighbors import KNeighborsRegressor\n",
    "from sklearn.ensemble import AdaBoostRegressor\n",
    "from sklearn.svm import SVR\n",
    "from xgboost import XGBRegressor\n",
    "from catboost import CatBoostRegressor\n",
    "from sklearn.ensemble import RandomForestRegressor\n",
    "from sklearn.model_selection import RandomizedSearchCV\n",
    "from sklearn.metrics import r2_score, mean_squared_error, mean_absolute_error\n",
    "import warnings\n",
    "warnings.filterwarnings('ignore')"
   ]
  },
  {
   "cell_type": "code",
   "execution_count": 2,
   "metadata": {},
   "outputs": [
    {
     "data": {
      "text/html": [
       "<div>\n",
       "<style scoped>\n",
       "    .dataframe tbody tr th:only-of-type {\n",
       "        vertical-align: middle;\n",
       "    }\n",
       "\n",
       "    .dataframe tbody tr th {\n",
       "        vertical-align: top;\n",
       "    }\n",
       "\n",
       "    .dataframe thead th {\n",
       "        text-align: right;\n",
       "    }\n",
       "</style>\n",
       "<table border=\"1\" class=\"dataframe\">\n",
       "  <thead>\n",
       "    <tr style=\"text-align: right;\">\n",
       "      <th></th>\n",
       "      <th>Unnamed: 0</th>\n",
       "      <th>gender</th>\n",
       "      <th>race/ethnicity</th>\n",
       "      <th>parental level of education</th>\n",
       "      <th>lunch</th>\n",
       "      <th>test preparation course</th>\n",
       "      <th>math score</th>\n",
       "      <th>reading score</th>\n",
       "      <th>writing score</th>\n",
       "      <th>Total_Score</th>\n",
       "      <th>Average_score</th>\n",
       "    </tr>\n",
       "  </thead>\n",
       "  <tbody>\n",
       "    <tr>\n",
       "      <th>0</th>\n",
       "      <td>0</td>\n",
       "      <td>female</td>\n",
       "      <td>group B</td>\n",
       "      <td>bachelor's degree</td>\n",
       "      <td>standard</td>\n",
       "      <td>none</td>\n",
       "      <td>72</td>\n",
       "      <td>72</td>\n",
       "      <td>74</td>\n",
       "      <td>218</td>\n",
       "      <td>72.666667</td>\n",
       "    </tr>\n",
       "    <tr>\n",
       "      <th>1</th>\n",
       "      <td>1</td>\n",
       "      <td>female</td>\n",
       "      <td>group C</td>\n",
       "      <td>some college</td>\n",
       "      <td>standard</td>\n",
       "      <td>completed</td>\n",
       "      <td>69</td>\n",
       "      <td>90</td>\n",
       "      <td>88</td>\n",
       "      <td>247</td>\n",
       "      <td>82.333333</td>\n",
       "    </tr>\n",
       "    <tr>\n",
       "      <th>2</th>\n",
       "      <td>2</td>\n",
       "      <td>female</td>\n",
       "      <td>group B</td>\n",
       "      <td>master's degree</td>\n",
       "      <td>standard</td>\n",
       "      <td>none</td>\n",
       "      <td>90</td>\n",
       "      <td>95</td>\n",
       "      <td>93</td>\n",
       "      <td>278</td>\n",
       "      <td>92.666667</td>\n",
       "    </tr>\n",
       "    <tr>\n",
       "      <th>3</th>\n",
       "      <td>3</td>\n",
       "      <td>male</td>\n",
       "      <td>group A</td>\n",
       "      <td>associate's degree</td>\n",
       "      <td>free/reduced</td>\n",
       "      <td>none</td>\n",
       "      <td>47</td>\n",
       "      <td>57</td>\n",
       "      <td>44</td>\n",
       "      <td>148</td>\n",
       "      <td>49.333333</td>\n",
       "    </tr>\n",
       "    <tr>\n",
       "      <th>4</th>\n",
       "      <td>4</td>\n",
       "      <td>male</td>\n",
       "      <td>group C</td>\n",
       "      <td>some college</td>\n",
       "      <td>standard</td>\n",
       "      <td>none</td>\n",
       "      <td>76</td>\n",
       "      <td>78</td>\n",
       "      <td>75</td>\n",
       "      <td>229</td>\n",
       "      <td>76.333333</td>\n",
       "    </tr>\n",
       "  </tbody>\n",
       "</table>\n",
       "</div>"
      ],
      "text/plain": [
       "   Unnamed: 0  gender race/ethnicity parental level of education  \\\n",
       "0           0  female        group B           bachelor's degree   \n",
       "1           1  female        group C                some college   \n",
       "2           2  female        group B             master's degree   \n",
       "3           3    male        group A          associate's degree   \n",
       "4           4    male        group C                some college   \n",
       "\n",
       "          lunch test preparation course  math score  reading score  \\\n",
       "0      standard                    none          72             72   \n",
       "1      standard               completed          69             90   \n",
       "2      standard                    none          90             95   \n",
       "3  free/reduced                    none          47             57   \n",
       "4      standard                    none          76             78   \n",
       "\n",
       "   writing score  Total_Score  Average_score  \n",
       "0             74          218      72.666667  \n",
       "1             88          247      82.333333  \n",
       "2             93          278      92.666667  \n",
       "3             44          148      49.333333  \n",
       "4             75          229      76.333333  "
      ]
     },
     "execution_count": 2,
     "metadata": {},
     "output_type": "execute_result"
    }
   ],
   "source": [
    "df = pd.read_csv('stud.csv')\n",
    "df.head()"
   ]
  },
  {
   "cell_type": "code",
   "execution_count": 3,
   "metadata": {},
   "outputs": [],
   "source": [
    "### create dependent and independent features\n",
    "X = df.drop(['math score', 'Unnamed: 0'], axis=1)\n",
    "y = df['math score']"
   ]
  },
  {
   "cell_type": "code",
   "execution_count": 4,
   "metadata": {},
   "outputs": [
    {
     "name": "stdout",
     "output_type": "stream",
     "text": [
      "<class 'pandas.core.frame.DataFrame'>\n",
      "RangeIndex: 1000 entries, 0 to 999\n",
      "Data columns (total 11 columns):\n",
      " #   Column                       Non-Null Count  Dtype  \n",
      "---  ------                       --------------  -----  \n",
      " 0   Unnamed: 0                   1000 non-null   int64  \n",
      " 1   gender                       1000 non-null   object \n",
      " 2   race/ethnicity               1000 non-null   object \n",
      " 3   parental level of education  1000 non-null   object \n",
      " 4   lunch                        1000 non-null   object \n",
      " 5   test preparation course      1000 non-null   object \n",
      " 6   math score                   1000 non-null   int64  \n",
      " 7   reading score                1000 non-null   int64  \n",
      " 8   writing score                1000 non-null   int64  \n",
      " 9   Total_Score                  1000 non-null   int64  \n",
      " 10  Average_score                1000 non-null   float64\n",
      "dtypes: float64(1), int64(5), object(5)\n",
      "memory usage: 86.1+ KB\n"
     ]
    }
   ],
   "source": [
    "df.info()"
   ]
  },
  {
   "cell_type": "code",
   "execution_count": 5,
   "metadata": {},
   "outputs": [
    {
     "name": "stdout",
     "output_type": "stream",
     "text": [
      "the unique categories in gender : ['female' 'male']\n",
      "the unique categories in race/ethnicity : ['group B' 'group C' 'group A' 'group D' 'group E']\n",
      "the unique categories in parental level of education : [\"bachelor's degree\" 'some college' \"master's degree\" \"associate's degree\"\n",
      " 'high school' 'some high school']\n",
      "the unique categories in lunch : ['standard' 'free/reduced']\n",
      "the unique categories in test preparation course : ['none' 'completed']\n"
     ]
    }
   ],
   "source": [
    "print(\"the unique categories in gender :\", X['gender'].unique())\n",
    "print(\"the unique categories in race/ethnicity :\", X['race/ethnicity'].unique())\n",
    "print(\"the unique categories in parental level of education :\", X['parental level of education'].unique())\n",
    "print(\"the unique categories in lunch :\", X['lunch'].unique())\n",
    "print(\"the unique categories in test preparation course :\", X['test preparation course'].unique())\n"
   ]
  },
  {
   "cell_type": "code",
   "execution_count": 6,
   "metadata": {},
   "outputs": [
    {
     "data": {
      "text/plain": [
       "((750, 9), (250, 9))"
      ]
     },
     "execution_count": 6,
     "metadata": {},
     "output_type": "execute_result"
    }
   ],
   "source": [
    "X_train,X_test, y_train,y_test = train_test_split(X,y, test_size=0.25, random_state=10)\n",
    "X_train.shape, X_test.shape"
   ]
  },
  {
   "cell_type": "code",
   "execution_count": 7,
   "metadata": {},
   "outputs": [],
   "source": [
    "from sklearn.compose import ColumnTransformer\n",
    "num_features = [col for col in X.columns if X[col].dtype != object]\n",
    "cat_features = [col for col in X.columns if X[col].dtype == object]\n",
    "\n",
    "oh_transformer = OneHotEncoder()\n",
    "scaler_transformer = StandardScaler()\n",
    "\n",
    "preprocessor = ColumnTransformer([('one hot', oh_transformer, cat_features),('scaler', scaler_transformer, num_features)])\n",
    "X_train = preprocessor.fit_transform(X_train)\n",
    "X_test = preprocessor.transform(X_test)"
   ]
  },
  {
   "cell_type": "code",
   "execution_count": 8,
   "metadata": {},
   "outputs": [
    {
     "data": {
      "text/plain": [
       "array([[ 0.        ,  1.        ,  0.        , ..., -1.24744859,\n",
       "        -1.13666508, -1.13666508],\n",
       "       [ 1.        ,  0.        ,  0.        , ...,  0.71532017,\n",
       "         0.67405047,  0.67405047],\n",
       "       [ 0.        ,  1.        ,  0.        , ...,  0.38819204,\n",
       "         0.76690768,  0.76690768],\n",
       "       ...,\n",
       "       [ 0.        ,  1.        ,  0.        , ..., -0.85489484,\n",
       "        -0.71880765, -0.71880765],\n",
       "       [ 1.        ,  0.        ,  0.        , ...,  1.17329955,\n",
       "         1.50976534,  1.50976534],\n",
       "       [ 0.        ,  1.        ,  0.        , ..., -1.77085359,\n",
       "        -1.4152367 , -1.4152367 ]])"
      ]
     },
     "execution_count": 8,
     "metadata": {},
     "output_type": "execute_result"
    }
   ],
   "source": [
    "X_train"
   ]
  },
  {
   "cell_type": "code",
   "execution_count": 9,
   "metadata": {},
   "outputs": [],
   "source": [
    "def evaluate_model(true, predicted):\n",
    "    r2 = r2_score(true, predicted)\n",
    "    mse = mean_squared_error(true, predicted)\n",
    "    mae = mean_absolute_error(true, predicted)\n",
    "    rmse = np.sqrt(mse)\n",
    "    return r2, mse, mae, rmse"
   ]
  },
  {
   "cell_type": "code",
   "execution_count": 11,
   "metadata": {},
   "outputs": [
    {
     "name": "stdout",
     "output_type": "stream",
     "text": [
      "Evaluation for linear model\n",
      "r2 score for training data 1.0\n",
      "mean squared error for training data 2.6055549792179873e-27\n",
      "root mean squared error for training data 5.10446371249516e-14\n",
      "mean absolute error for training data 4.023092969873687e-14\n",
      "--------------------------------------------------\n",
      "Evaluation for linear model\n",
      "r2 score for test data 1.0\n",
      "mean squared error for test data 2.6043769469328573e-27\n",
      "root mean squared error for test data 5.10330965838137e-14\n",
      "mean absolute error for test data 4.122568952880101e-14\n",
      "==================================================\n",
      "\n",
      "Evaluation for support vector model\n",
      "r2 score for training data 0.8584014945861914\n",
      "mean squared error for training data 33.60568178578068\n",
      "root mean squared error for training data 5.797040778343782\n",
      "mean absolute error for training data 3.698567289853123\n",
      "--------------------------------------------------\n",
      "Evaluation for support vector model\n",
      "r2 score for test data 0.8886649057430026\n",
      "mean squared error for test data 22.835538595351906\n",
      "root mean squared error for test data 4.778654475409569\n",
      "mean absolute error for test data 3.627184658532879\n",
      "==================================================\n",
      "\n",
      "Evaluation for KNN model\n",
      "r2 score for training data 0.9228886041284222\n",
      "mean squared error for training data 18.300906666666666\n",
      "root mean squared error for training data 4.277955898167566\n",
      "mean absolute error for training data 3.385066666666667\n",
      "--------------------------------------------------\n",
      "Evaluation for KNN model\n",
      "r2 score for test data 0.8775472537217563\n",
      "mean squared error for test data 25.11584\n",
      "root mean squared error for test data 5.0115706120935775\n",
      "mean absolute error for test data 3.9967999999999995\n",
      "==================================================\n",
      "\n",
      "Evaluation for Decision tree model\n",
      "r2 score for training data 1.0\n",
      "mean squared error for training data 0.0\n",
      "root mean squared error for training data 0.0\n",
      "mean absolute error for training data 0.0\n",
      "--------------------------------------------------\n",
      "Evaluation for Decision tree model\n",
      "r2 score for test data 0.9263016601180001\n",
      "mean squared error for test data 15.116\n",
      "root mean squared error for test data 3.8879300405228485\n",
      "mean absolute error for test data 3.1\n",
      "==================================================\n",
      "\n",
      "Evaluation for random forest model\n",
      "r2 score for training data 0.9946196816915382\n",
      "mean squared error for training data 1.276915066666667\n",
      "root mean squared error for training data 1.1300066666470012\n",
      "mean absolute error for training data 0.8547066666666666\n",
      "--------------------------------------------------\n",
      "Evaluation for random forest model\n",
      "r2 score for test data 0.9605165522297932\n",
      "mean squared error for test data 8.098307199999999\n",
      "root mean squared error for test data 2.8457524839662356\n",
      "mean absolute error for test data 2.27344\n",
      "==================================================\n",
      "\n",
      "Evaluation for catboost model\n",
      "r2 score for training data 0.9964476472754177\n",
      "mean squared error for training data 0.8430825940167327\n",
      "root mean squared error for training data 0.9181952918724495\n",
      "mean absolute error for training data 0.7490007680972873\n",
      "--------------------------------------------------\n",
      "Evaluation for catboost model\n",
      "r2 score for test data 0.967676639930715\n",
      "mean squared error for test data 6.62972750254104\n",
      "root mean squared error for test data 2.5748257227511613\n",
      "mean absolute error for test data 1.9636548924629786\n",
      "==================================================\n",
      "\n",
      "Evaluation for adaboost model\n",
      "r2 score for training data 0.9320879651797895\n",
      "mean squared error for training data 16.11761525959079\n",
      "root mean squared error for training data 4.014674988039603\n",
      "mean absolute error for training data 3.2759171672521856\n",
      "--------------------------------------------------\n",
      "Evaluation for adaboost model\n",
      "r2 score for test data 0.8988727985299653\n",
      "mean squared error for test data 20.741834617558318\n",
      "root mean squared error for test data 4.55432043422049\n",
      "mean absolute error for test data 3.6743268023003197\n",
      "==================================================\n",
      "\n",
      "Evaluation for xgboost model\n",
      "r2 score for training data 0.9999471871351598\n",
      "mean squared error for training data 0.012534117678893798\n",
      "root mean squared error for training data 0.1119558738025558\n",
      "mean absolute error for training data 0.0804396209816138\n",
      "--------------------------------------------------\n",
      "Evaluation for xgboost model\n",
      "r2 score for test data 0.9729663830705333\n",
      "mean squared error for test data 5.5447674148441\n",
      "root mean squared error for test data 2.3547329816444367\n",
      "mean absolute error for test data 1.7123786010742188\n",
      "==================================================\n",
      "\n"
     ]
    }
   ],
   "source": [
    "models = {\n",
    "            'linear' : LinearRegression(), 'support vector': SVR(), 'KNN' : KNeighborsRegressor(), 'Decision tree' : DecisionTreeRegressor(), \n",
    "            'random forest': RandomForestRegressor(), 'catboost': CatBoostRegressor(verbose=0), 'adaboost': AdaBoostRegressor(), 'xgboost': XGBRegressor()\n",
    "          }\n",
    "model_names = []\n",
    "r2_scores = []\n",
    "for i in list(models.keys()):\n",
    "    model = models[i]\n",
    "    model_name = i\n",
    "\n",
    "    \n",
    "    \n",
    "\n",
    "    model.fit(X_train, y_train)\n",
    "    y_pred = model.predict(X_test)\n",
    "    y_pred_train = model.predict(X_train)\n",
    "\n",
    "    r2_train, mse_train, mae_train, rmse_train = evaluate_model(y_train, y_pred_train)\n",
    "    r2, mse, mae, rmse = evaluate_model(y_test, y_pred)\n",
    "    \n",
    "    model_names.append(i)\n",
    "    r2_scores.append(r2)\n",
    "    \n",
    "    print(f'Evaluation for {model_name} model')\n",
    "    print(f'r2 score for training data', r2_train)\n",
    "    print(f'mean squared error for training data', mse_train)\n",
    "    print(f'root mean squared error for training data', rmse_train)\n",
    "    print(f'mean absolute error for training data', mae_train)\n",
    "    print('-'*50)\n",
    "\n",
    "    print(f'Evaluation for {model_name} model')\n",
    "    print(f'r2 score for test data', r2)\n",
    "    print(f'mean squared error for test data', mse)\n",
    "    print(f'root mean squared error for test data', rmse)\n",
    "    print(f'mean absolute error for test data', mae)\n",
    "    print('='*50)\n",
    "    print()"
   ]
  },
  {
   "cell_type": "code",
   "execution_count": 14,
   "metadata": {},
   "outputs": [
    {
     "data": {
      "text/html": [
       "<div>\n",
       "<style scoped>\n",
       "    .dataframe tbody tr th:only-of-type {\n",
       "        vertical-align: middle;\n",
       "    }\n",
       "\n",
       "    .dataframe tbody tr th {\n",
       "        vertical-align: top;\n",
       "    }\n",
       "\n",
       "    .dataframe thead th {\n",
       "        text-align: right;\n",
       "    }\n",
       "</style>\n",
       "<table border=\"1\" class=\"dataframe\">\n",
       "  <thead>\n",
       "    <tr style=\"text-align: right;\">\n",
       "      <th></th>\n",
       "      <th>model_names</th>\n",
       "      <th>r2_scores</th>\n",
       "    </tr>\n",
       "  </thead>\n",
       "  <tbody>\n",
       "    <tr>\n",
       "      <th>0</th>\n",
       "      <td>linear</td>\n",
       "      <td>1.000000</td>\n",
       "    </tr>\n",
       "    <tr>\n",
       "      <th>7</th>\n",
       "      <td>xgboost</td>\n",
       "      <td>0.972966</td>\n",
       "    </tr>\n",
       "    <tr>\n",
       "      <th>5</th>\n",
       "      <td>catboost</td>\n",
       "      <td>0.967677</td>\n",
       "    </tr>\n",
       "    <tr>\n",
       "      <th>4</th>\n",
       "      <td>random forest</td>\n",
       "      <td>0.960517</td>\n",
       "    </tr>\n",
       "    <tr>\n",
       "      <th>3</th>\n",
       "      <td>Decision tree</td>\n",
       "      <td>0.926302</td>\n",
       "    </tr>\n",
       "    <tr>\n",
       "      <th>6</th>\n",
       "      <td>adaboost</td>\n",
       "      <td>0.898873</td>\n",
       "    </tr>\n",
       "    <tr>\n",
       "      <th>1</th>\n",
       "      <td>support vector</td>\n",
       "      <td>0.888665</td>\n",
       "    </tr>\n",
       "    <tr>\n",
       "      <th>2</th>\n",
       "      <td>KNN</td>\n",
       "      <td>0.877547</td>\n",
       "    </tr>\n",
       "  </tbody>\n",
       "</table>\n",
       "</div>"
      ],
      "text/plain": [
       "      model_names  r2_scores\n",
       "0          linear   1.000000\n",
       "7         xgboost   0.972966\n",
       "5        catboost   0.967677\n",
       "4   random forest   0.960517\n",
       "3   Decision tree   0.926302\n",
       "6        adaboost   0.898873\n",
       "1  support vector   0.888665\n",
       "2             KNN   0.877547"
      ]
     },
     "execution_count": 14,
     "metadata": {},
     "output_type": "execute_result"
    }
   ],
   "source": [
    "scores = pd.DataFrame(list(zip(model_names, r2_scores)), columns = ['model_names', 'r2_scores']).sort_values(by ='r2_scores', ascending=False)\n",
    "scores"
   ]
  },
  {
   "cell_type": "code",
   "execution_count": null,
   "metadata": {},
   "outputs": [],
   "source": [
    "##Linear mode has the best test accuracy so we select it for further prediction."
   ]
  },
  {
   "cell_type": "code",
   "execution_count": 15,
   "metadata": {},
   "outputs": [
    {
     "name": "stdout",
     "output_type": "stream",
     "text": [
      "the r2 score for Linear Regression model is 1.0000\n"
     ]
    }
   ],
   "source": [
    "linear = LinearRegression()\n",
    "linear.fit(X_train, y_train)\n",
    "y_pred = linear.predict(X_test)\n",
    "score = r2_score(y_test, y_pred)\n",
    "print(f\"the r2 score for Linear Regression model is {score:.4f}\")"
   ]
  },
  {
   "cell_type": "code",
   "execution_count": 17,
   "metadata": {},
   "outputs": [
    {
     "data": {
      "text/html": [
       "<div>\n",
       "<style scoped>\n",
       "    .dataframe tbody tr th:only-of-type {\n",
       "        vertical-align: middle;\n",
       "    }\n",
       "\n",
       "    .dataframe tbody tr th {\n",
       "        vertical-align: top;\n",
       "    }\n",
       "\n",
       "    .dataframe thead th {\n",
       "        text-align: right;\n",
       "    }\n",
       "</style>\n",
       "<table border=\"1\" class=\"dataframe\">\n",
       "  <thead>\n",
       "    <tr style=\"text-align: right;\">\n",
       "      <th></th>\n",
       "      <th>Actual value</th>\n",
       "      <th>Predicted</th>\n",
       "      <th>difference</th>\n",
       "    </tr>\n",
       "  </thead>\n",
       "  <tbody>\n",
       "    <tr>\n",
       "      <th>841</th>\n",
       "      <td>64</td>\n",
       "      <td>64.0</td>\n",
       "      <td>2.131628e-14</td>\n",
       "    </tr>\n",
       "    <tr>\n",
       "      <th>956</th>\n",
       "      <td>84</td>\n",
       "      <td>84.0</td>\n",
       "      <td>-8.526513e-14</td>\n",
       "    </tr>\n",
       "    <tr>\n",
       "      <th>544</th>\n",
       "      <td>64</td>\n",
       "      <td>64.0</td>\n",
       "      <td>2.842171e-14</td>\n",
       "    </tr>\n",
       "    <tr>\n",
       "      <th>173</th>\n",
       "      <td>63</td>\n",
       "      <td>63.0</td>\n",
       "      <td>-2.842171e-14</td>\n",
       "    </tr>\n",
       "    <tr>\n",
       "      <th>759</th>\n",
       "      <td>69</td>\n",
       "      <td>69.0</td>\n",
       "      <td>0.000000e+00</td>\n",
       "    </tr>\n",
       "    <tr>\n",
       "      <th>...</th>\n",
       "      <td>...</td>\n",
       "      <td>...</td>\n",
       "      <td>...</td>\n",
       "    </tr>\n",
       "    <tr>\n",
       "      <th>800</th>\n",
       "      <td>67</td>\n",
       "      <td>67.0</td>\n",
       "      <td>-1.421085e-14</td>\n",
       "    </tr>\n",
       "    <tr>\n",
       "      <th>217</th>\n",
       "      <td>34</td>\n",
       "      <td>34.0</td>\n",
       "      <td>7.105427e-14</td>\n",
       "    </tr>\n",
       "    <tr>\n",
       "      <th>565</th>\n",
       "      <td>48</td>\n",
       "      <td>48.0</td>\n",
       "      <td>7.105427e-14</td>\n",
       "    </tr>\n",
       "    <tr>\n",
       "      <th>486</th>\n",
       "      <td>61</td>\n",
       "      <td>61.0</td>\n",
       "      <td>7.105427e-14</td>\n",
       "    </tr>\n",
       "    <tr>\n",
       "      <th>197</th>\n",
       "      <td>55</td>\n",
       "      <td>55.0</td>\n",
       "      <td>4.973799e-14</td>\n",
       "    </tr>\n",
       "  </tbody>\n",
       "</table>\n",
       "<p>250 rows × 3 columns</p>\n",
       "</div>"
      ],
      "text/plain": [
       "     Actual value  Predicted    difference\n",
       "841            64       64.0  2.131628e-14\n",
       "956            84       84.0 -8.526513e-14\n",
       "544            64       64.0  2.842171e-14\n",
       "173            63       63.0 -2.842171e-14\n",
       "759            69       69.0  0.000000e+00\n",
       "..            ...        ...           ...\n",
       "800            67       67.0 -1.421085e-14\n",
       "217            34       34.0  7.105427e-14\n",
       "565            48       48.0  7.105427e-14\n",
       "486            61       61.0  7.105427e-14\n",
       "197            55       55.0  4.973799e-14\n",
       "\n",
       "[250 rows x 3 columns]"
      ]
     },
     "execution_count": 17,
     "metadata": {},
     "output_type": "execute_result"
    }
   ],
   "source": [
    "prediction = pd.DataFrame({'Actual value': y_test, 'Predicted': y_pred, 'difference': y_test - y_pred})\n",
    "prediction"
   ]
  },
  {
   "cell_type": "code",
   "execution_count": 23,
   "metadata": {},
   "outputs": [
    {
     "data": {
      "text/plain": [
       "Text(0, 0.5, 'predicted')"
      ]
     },
     "execution_count": 23,
     "metadata": {},
     "output_type": "execute_result"
    },
    {
     "data": {
      "image/png": "[encoded data removed]",
      "text/plain": [
       "<Figure size 640x480 with 1 Axes>"
      ]
     },
     "metadata": {},
     "output_type": "display_data"
    }
   ],
   "source": [
    "plt.scatter(y_test, y_pred)\n",
    "plt.xlabel('Actual')\n",
    "plt.ylabel('predicted')"
   ]
  },
  {
   "cell_type": "code",
   "execution_count": null,
   "metadata": {},
   "outputs": [
    {
     "data": {
      "image/png": "[encoded data removed]",
      "text/plain": [
       "<Figure size 640x480 with 1 Axes>"
      ]
     },
     "metadata": {},
     "output_type": "display_data"
    }
   ],
   "source": [
    "sns.regplot(x=y_test,y=y_pred,color ='red');"
   ]
  },
  {
   "cell_type": "code",
   "execution_count": null,
   "metadata": {},
   "outputs": [],
   "source": []
  }
 ],
 "metadata": {
  "kernelspec": {
   "display_name": "venv",
   "language": "python",
   "name": "python3"
  },
  "language_info": {
   "codemirror_mode": {
    "name": "ipython",
    "version": 3
   },
   "file_extension": ".py",
   "mimetype": "text/x-python",
   "name": "python",
   "nbconvert_exporter": "python",
   "pygments_lexer": "ipython3",
   "version": "3.8.0"
  }
 },
 "nbformat": 4,
 "nbformat_minor": 2
}
